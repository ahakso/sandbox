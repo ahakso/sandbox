{
 "cells": [
  {
   "cell_type": "code",
   "execution_count": null,
   "id": "024a7b3d",
   "metadata": {},
   "outputs": [],
   "source": [
    "import requests\n",
    "import json\n",
    "from dateutil import parser, tz\n",
    "from datetime import datetime, timezone\n",
    "\n",
    "\n",
    "def iso_to_timestamp(isodt_str: str):\n",
    "    isodt = parser.parse(isodt_str)\n",
    "    return pd.Timestamp(\n",
    "        isodt.replace(tzinfo=timezone.utc).astimezone(\n",
    "            tz=tz.gettz(\"America/Los_Angeles\")\n",
    "        )\n",
    "    ).tz_convert(tz=tz.gettz(\"America/Los_Angeles\"))\n",
    "\n",
    "\n",
    "def request_to_json(request):\n",
    "    response = requests.get(request)\n",
    "    response.encoding = \"utf-8-sig\"\n",
    "    return response.json()\n",
    "\n",
    "\n",
    "def convert_time_str_to_local_tz_timestamp(df, time_cols):\n",
    "    df[time_cols] = df[time_cols].applymap(iso_to_timestamp)\n",
    "    return df\n",
    "\n",
    "\n",
    "def departures_response_to_rwc_departures(departures):\n",
    "    # only if stopping at rwc and going north\n",
    "    nb_trains = [\n",
    "        x\n",
    "        for x in departures[\"ServiceDelivery\"][\"StopMonitoringDelivery\"][\n",
    "            \"MonitoredStopVisit\"\n",
    "        ]\n",
    "        if x[\"MonitoredVehicleJourney\"][\"DestinationName\"]\n",
    "        == \"San Francisco Caltrain Station\"\n",
    "    ]\n",
    "\n",
    "    rwc_next = pd.DataFrame(\n",
    "        [\n",
    "            x[\"MonitoredVehicleJourney\"][\"MonitoredCall\"]\n",
    "            | {\"VehicleRef\": x[\"MonitoredVehicleJourney\"][\"VehicleRef\"]}\n",
    "            for x in nb_trains\n",
    "        ]\n",
    "    ).loc[lambda df: df.StopPointName == \"Redwood City Caltrain Station\"]\n",
    "    rwc_next = convert_time_str_to_local_tz_timestamp(\n",
    "        rwc_next,\n",
    "        time_cols=[\n",
    "            \"AimedArrivalTime\",\n",
    "            \"ExpectedArrivalTime\",\n",
    "            \"AimedDepartureTime\",\n",
    "            \"ExpectedDepartureTime\",\n",
    "        ],\n",
    "    )\n",
    "    return (\n",
    "        rwc_next[[\"VehicleRef\", \"AimedDepartureTime\", \"ExpectedDepartureTime\"]]\n",
    "        .assign(\n",
    "            minutes_late=lambda df: (\n",
    "                df.ExpectedDepartureTime - df.AimedDepartureTime\n",
    "            ).apply(lambda x: x.seconds / 60)\n",
    "        )\n",
    "        .rename(\n",
    "            columns={\n",
    "                \"AimedDepartureTime\": \"scheduled_rwc_departure\",\n",
    "                \"ExpectedDepartureTime\": \"expected_rwc_departure\",\n",
    "                \"VehicleRef\": \"vehicle_id\",\n",
    "            }\n",
    "        )\n",
    "    )\n",
    "\n",
    "\n",
    "# your_key = \"66114e41-7929-4a61-a9c5-96cff817e7df\"\n",
    "operatorID = \"CT\"\n",
    "rwc_caltrain_id = \"redwood_city\""
   ]
  },
  {
   "cell_type": "code",
   "execution_count": null,
   "id": "a0b47481",
   "metadata": {},
   "outputs": [],
   "source": [
    "env_vars = !cat ~/.bash_env_vars"
   ]
  },
  {
   "cell_type": "code",
   "execution_count": null,
   "id": "f11193c7",
   "metadata": {},
   "outputs": [],
   "source": [
    "key = os.environ['CALTRAIN_API_KEY']"
   ]
  },
  {
   "cell_type": "markdown",
   "id": "f35a5826",
   "metadata": {},
   "source": [
    "# Stop endpoint"
   ]
  },
  {
   "cell_type": "code",
   "execution_count": null,
   "id": "860ca3c3",
   "metadata": {},
   "outputs": [],
   "source": [
    "departure_prediction = (\n",
    "    f\"http://api.511.org/transit/StopMonitoring?api_key={key}&agency=CT&stop={rwc_caltrain_id}\"\n",
    ")\n",
    "departures_response = request_to_json(departure_prediction)"
   ]
  },
  {
   "cell_type": "code",
   "execution_count": null,
   "id": "f4265860",
   "metadata": {},
   "outputs": [],
   "source": [
    "departures = departures_response_to_rwc_departures(departures_response)"
   ]
  },
  {
   "cell_type": "markdown",
   "id": "45b25001",
   "metadata": {},
   "source": [
    "# Vehicle endpoint"
   ]
  },
  {
   "cell_type": "code",
   "execution_count": null,
   "id": "ba0a7ce6",
   "metadata": {},
   "outputs": [],
   "source": [
    "rt_response = request_to_json(\n",
    "    f\"http://api.511.org/transit/VehicleMonitoring?api_key={key}&agency={operatorID}\"\n",
    ")"
   ]
  },
  {
   "cell_type": "code",
   "execution_count": null,
   "id": "7e43a0d9",
   "metadata": {},
   "outputs": [],
   "source": [
    "# this + 6 minutes\n",
    "train_data = pd.DataFrame(\n",
    "    [\n",
    "        x[\"MonitoredVehicleJourney\"][\"OnwardCalls\"][\"OnwardCall\"][-1]\n",
    "        | {\"vehicle_id\": x[\"MonitoredVehicleJourney\"][\"VehicleRef\"]}\n",
    "        for x in rt_response[\"Siri\"][\"ServiceDelivery\"][\"VehicleMonitoringDelivery\"][\n",
    "            \"VehicleActivity\"\n",
    "        ]\n",
    "        if x[\"MonitoredVehicleJourney\"][\"VehicleRef\"] in departures.vehicle_id.values\n",
    "    ]\n",
    ")[[\"StopPointName\", \"AimedDepartureTime\", \"ExpectedDepartureTime\", \"vehicle_id\"]]"
   ]
  },
  {
   "cell_type": "code",
   "execution_count": null,
   "id": "1e3c635d",
   "metadata": {},
   "outputs": [],
   "source": [
    "train_data"
   ]
  },
  {
   "cell_type": "code",
   "execution_count": null,
   "id": "e0dacd60",
   "metadata": {},
   "outputs": [],
   "source": [
    "train_data = convert_time_str_to_local_tz_timestamp(\n",
    "    train_data, [\"AimedDepartureTime\", \"ExpectedDepartureTime\"]\n",
    ")\n",
    "sf_arrival = train_data.rename(\n",
    "    columns={\n",
    "        \"AimedDepartureTime\": \"scheduled_sf_arrival\",\n",
    "        \"ExpectedDepartureTime\": \"expected_sf_arrival\",\n",
    "        \"VehicleRef\": \"vehicle_id\",\n",
    "    }\n",
    ").assign(\n",
    "    scheduled_sf_arrival=lambda df: df.scheduled_sf_arrival + pd.Timedelta(\"6 minutes\"),\n",
    "    expected_sf_arrival=lambda df: df.expected_sf_arrival + pd.Timedelta(\"6 minutes\"),\n",
    ").drop(columns=['StopPointName'])"
   ]
  },
  {
   "cell_type": "code",
   "execution_count": null,
   "id": "aab648f6",
   "metadata": {},
   "outputs": [],
   "source": [
    "sf_arrival"
   ]
  },
  {
   "cell_type": "code",
   "execution_count": null,
   "id": "e5345e9f",
   "metadata": {},
   "outputs": [],
   "source": [
    "departures.merge(sf_arrival,on='vehicle_id').drop(columns=['vehicle_id'])"
   ]
  },
  {
   "cell_type": "markdown",
   "id": "e7f2d0d4",
   "metadata": {},
   "source": [
    "# Misc info gathering"
   ]
  },
  {
   "cell_type": "code",
   "execution_count": null,
   "id": "90e692c7",
   "metadata": {},
   "outputs": [],
   "source": [
    "# This gives caltrain operatorID: CT\n",
    "operators = f\"http://api.511.org/transit/operators?api_key={your_key}\"\n",
    "# this gives the name of rwc caltrain stop\n",
    "stops = f\"http://api.511.org/transit/stops?api_key={your_key}&operator_id={operatorID}&format=json\""
   ]
  },
  {
   "cell_type": "code",
   "execution_count": null,
   "id": "9492ecfd",
   "metadata": {},
   "outputs": [],
   "source": [
    "response_stops = request_to_json(stops)\n",
    "[x for x in response_stops.json()['Contents']['dataObjects']['ScheduledStopPoint'] if 'Redwood'.lower() in x['Name'].lower()]"
   ]
  }
 ],
 "metadata": {
  "kernelspec": {
   "display_name": "Python 3 (ipykernel)",
   "language": "python",
   "name": "python3"
  },
  "language_info": {
   "codemirror_mode": {
    "name": "ipython",
    "version": 3
   },
   "file_extension": ".py",
   "mimetype": "text/x-python",
   "name": "python",
   "nbconvert_exporter": "python",
   "pygments_lexer": "ipython3",
   "version": "3.10.2"
  }
 },
 "nbformat": 4,
 "nbformat_minor": 5
}
