{
 "cells": [
  {
   "cell_type": "code",
   "execution_count": 5,
   "id": "3bb87b2e",
   "metadata": {
    "ExecuteTime": {
     "end_time": "2023-05-25T15:34:30.372992Z",
     "start_time": "2023-05-25T15:34:30.354684Z"
    }
   },
   "outputs": [],
   "source": [
    "departures = departures_response"
   ]
  },
  {
   "cell_type": "code",
   "execution_count": 17,
   "id": "024a7b3d",
   "metadata": {
    "ExecuteTime": {
     "end_time": "2023-05-25T15:41:12.615571Z",
     "start_time": "2023-05-25T15:41:12.583802Z"
    }
   },
   "outputs": [],
   "source": [
    "import requests\n",
    "import json\n",
    "from dateutil import parser, tz\n",
    "from datetime import datetime, timezone\n",
    "\n",
    "\n",
    "def iso_to_timestamp(isodt_str: str):\n",
    "    isodt = parser.parse(isodt_str)\n",
    "    return pd.Timestamp(\n",
    "        isodt.replace(tzinfo=timezone.utc).astimezone(\n",
    "            tz=tz.gettz(\"America/Los_Angeles\")\n",
    "        )\n",
    "    ).tz_convert(tz=tz.gettz(\"America/Los_Angeles\"))\n",
    "\n",
    "\n",
    "def request_to_json(request):\n",
    "    response = requests.get(request)\n",
    "    response.encoding = \"utf-8-sig\"\n",
    "    return response.json()\n",
    "\n",
    "\n",
    "def convert_time_str_to_local_tz_timestamp(df, time_cols):\n",
    "    df[time_cols] = df[time_cols].applymap(iso_to_timestamp)\n",
    "    return df\n",
    "\n",
    "\n",
    "def departures_response_to_rwc_departures(departures):\n",
    "    # only if stopping at rwc and going north\n",
    "    nb_trains = [\n",
    "        x\n",
    "        for x in departures[\"ServiceDelivery\"][\"StopMonitoringDelivery\"][\n",
    "            \"MonitoredStopVisit\"\n",
    "        ]\n",
    "        if x[\"MonitoredVehicleJourney\"][\"DestinationName\"]\n",
    "        in (\"San Francisco Caltrain Station\",'San Francisco')\n",
    "    ]\n",
    "\n",
    "    rwc_next = pd.DataFrame(\n",
    "        [\n",
    "            x[\"MonitoredVehicleJourney\"][\"MonitoredCall\"]\n",
    "            | {\"VehicleRef\": x[\"MonitoredVehicleJourney\"][\"VehicleRef\"]}\n",
    "            for x in nb_trains\n",
    "        ]\n",
    "    ).loc[lambda df: df.StopPointName == \"Redwood City Caltrain Station\"]\n",
    "    rwc_next = convert_time_str_to_local_tz_timestamp(\n",
    "        rwc_next,\n",
    "        time_cols=[\n",
    "            \"AimedArrivalTime\",\n",
    "            \"ExpectedArrivalTime\",\n",
    "            \"AimedDepartureTime\",\n",
    "            \"ExpectedDepartureTime\",\n",
    "        ],\n",
    "    )\n",
    "    return (\n",
    "        rwc_next[[\"VehicleRef\", \"AimedDepartureTime\", \"ExpectedDepartureTime\"]]\n",
    "        .assign(\n",
    "            minutes_late=lambda df: (\n",
    "                df.ExpectedDepartureTime - df.AimedDepartureTime\n",
    "            ).apply(lambda x: x.seconds / 60)\n",
    "        )\n",
    "        .rename(\n",
    "            columns={\n",
    "                \"AimedDepartureTime\": \"scheduled_rwc_departure\",\n",
    "                \"ExpectedDepartureTime\": \"expected_rwc_departure\",\n",
    "                \"VehicleRef\": \"vehicle_id\",\n",
    "            }\n",
    "        )\n",
    "    )\n",
    "\n",
    "\n",
    "def get_vehicle_onward_stops(rt_response):\n",
    "    # this + 6 minutes\n",
    "    train_data = pd.DataFrame(\n",
    "        [\n",
    "            x[\"MonitoredVehicleJourney\"][\"OnwardCalls\"][\"OnwardCall\"][-1]\n",
    "            | {\"vehicle_id\": x[\"MonitoredVehicleJourney\"][\"VehicleRef\"]}\n",
    "            for x in rt_response[\"Siri\"][\"ServiceDelivery\"][\n",
    "                \"VehicleMonitoringDelivery\"\n",
    "            ][\"VehicleActivity\"]\n",
    "            if x[\"MonitoredVehicleJourney\"][\"VehicleRef\"]\n",
    "            in departures.vehicle_id.values\n",
    "        ]\n",
    "    )[[\"StopPointName\", \"AimedDepartureTime\", \"ExpectedDepartureTime\", \"vehicle_id\"]]\n",
    "\n",
    "    train_data = convert_time_str_to_local_tz_timestamp(\n",
    "        train_data, [\"AimedDepartureTime\", \"ExpectedDepartureTime\"]\n",
    "    )\n",
    "    sf_arrival = (\n",
    "        train_data.rename(\n",
    "            columns={\n",
    "                \"AimedDepartureTime\": \"scheduled_sf_arrival\",\n",
    "                \"ExpectedDepartureTime\": \"expected_sf_arrival\",\n",
    "                \"VehicleRef\": \"vehicle_id\",\n",
    "            }\n",
    "        )\n",
    "        .assign(\n",
    "            scheduled_sf_arrival=lambda df: df.scheduled_sf_arrival\n",
    "            + pd.Timedelta(\"6 minutes\"),\n",
    "            expected_sf_arrival=lambda df: df.expected_sf_arrival\n",
    "            + pd.Timedelta(\"6 minutes\"),\n",
    "        )\n",
    "        .drop(columns=[\"StopPointName\"])\n",
    "    )\n",
    "    return sf_arrival\n",
    "\n",
    "\n",
    "def get_next_sf_trips_from_rwc(departures, sf_arrival):\n",
    "    return (\n",
    "        departures.merge(sf_arrival, on=\"vehicle_id\")\n",
    "        .drop(columns=[\"vehicle_id\"])\n",
    "        .assign(duration=lambda df: df.expected_sf_arrival - df.expected_rwc_departure)\n",
    "        .pipe(\n",
    "            lambda df: df.rename(columns={k: k.replace(\"_\", \" \") for k in df.columns})\n",
    "        )\n",
    "        .style.format(\n",
    "            {\n",
    "                k: lambda x: x.strftime(\"%H:%M\")\n",
    "                for k in [\n",
    "                    \"scheduled rwc departure\",\n",
    "                    \"expected rwc departure\",\n",
    "                    \"scheduled sf arrival\",\n",
    "                    \"expected sf arrival\",\n",
    "                ]\n",
    "            }\n",
    "            | {\n",
    "                \"minutes_late\": \"{:0.1f}\",\n",
    "                \"duration\": lambda x: f\"{(x.seconds/60):.1f} minutes\",\n",
    "            }\n",
    "        )\n",
    "    )\n",
    "\n",
    "\n",
    "# your_key = \"66114e41-7929-4a61-a9c5-96cff817e7df\"\n",
    "operatorID = \"CT\"\n",
    "rwc_caltrain_id = \"redwood_city\"\n",
    "\n",
    "key = os.environ[\"CALTRAIN_API_KEY\"]"
   ]
  },
  {
   "cell_type": "markdown",
   "id": "4267270e",
   "metadata": {},
   "source": [
    "# Hit API"
   ]
  },
  {
   "cell_type": "code",
   "execution_count": 2,
   "id": "860ca3c3",
   "metadata": {
    "ExecuteTime": {
     "end_time": "2023-05-25T15:31:50.305254Z",
     "start_time": "2023-05-25T15:31:49.982690Z"
    }
   },
   "outputs": [],
   "source": [
    "departure_prediction = (\n",
    "    f\"http://api.511.org/transit/StopMonitoring?api_key={key}&agency=CT&stop={rwc_caltrain_id}\"\n",
    ")\n",
    "departures_response = request_to_json(departure_prediction)\n",
    "\n",
    "rt_response = request_to_json(\n",
    "    f\"http://api.511.org/transit/VehicleMonitoring?api_key={key}&agency={operatorID}\"\n",
    ")"
   ]
  },
  {
   "cell_type": "markdown",
   "id": "cdce27e8",
   "metadata": {},
   "source": [
    "# Munge "
   ]
  },
  {
   "cell_type": "code",
   "execution_count": 19,
   "id": "f4265860",
   "metadata": {
    "ExecuteTime": {
     "end_time": "2023-05-25T15:41:18.391157Z",
     "start_time": "2023-05-25T15:41:18.246749Z"
    }
   },
   "outputs": [],
   "source": [
    "departures = departures_response_to_rwc_departures(departures_response)\n",
    "sf_arrival = get_vehicle_onward_stops(rt_response)\n",
    "next_sf_trips_from_rwc = get_next_sf_trips_from_rwc(departures, sf_arrival)"
   ]
  },
  {
   "cell_type": "code",
   "execution_count": 20,
   "id": "8f30d991",
   "metadata": {
    "ExecuteTime": {
     "end_time": "2023-05-25T15:41:19.575691Z",
     "start_time": "2023-05-25T15:41:19.552845Z"
    }
   },
   "outputs": [
    {
     "data": {
      "text/html": [
       "<style type=\"text/css\">\n",
       "</style>\n",
       "<table id=\"T_3b50b\">\n",
       "  <thead>\n",
       "    <tr>\n",
       "      <th class=\"blank level0\" >&nbsp;</th>\n",
       "      <th id=\"T_3b50b_level0_col0\" class=\"col_heading level0 col0\" >scheduled rwc departure</th>\n",
       "      <th id=\"T_3b50b_level0_col1\" class=\"col_heading level0 col1\" >expected rwc departure</th>\n",
       "      <th id=\"T_3b50b_level0_col2\" class=\"col_heading level0 col2\" >minutes late</th>\n",
       "      <th id=\"T_3b50b_level0_col3\" class=\"col_heading level0 col3\" >scheduled sf arrival</th>\n",
       "      <th id=\"T_3b50b_level0_col4\" class=\"col_heading level0 col4\" >expected sf arrival</th>\n",
       "      <th id=\"T_3b50b_level0_col5\" class=\"col_heading level0 col5\" >duration</th>\n",
       "    </tr>\n",
       "  </thead>\n",
       "  <tbody>\n",
       "    <tr>\n",
       "      <th id=\"T_3b50b_level0_row0\" class=\"row_heading level0 row0\" >0</th>\n",
       "      <td id=\"T_3b50b_row0_col0\" class=\"data row0 col0\" >08:40</td>\n",
       "      <td id=\"T_3b50b_row0_col1\" class=\"data row0 col1\" >08:40</td>\n",
       "      <td id=\"T_3b50b_row0_col2\" class=\"data row0 col2\" >0.000000</td>\n",
       "      <td id=\"T_3b50b_row0_col3\" class=\"data row0 col3\" >09:32</td>\n",
       "      <td id=\"T_3b50b_row0_col4\" class=\"data row0 col4\" >09:32</td>\n",
       "      <td id=\"T_3b50b_row0_col5\" class=\"data row0 col5\" >52.8 minutes</td>\n",
       "    </tr>\n",
       "    <tr>\n",
       "      <th id=\"T_3b50b_level0_row1\" class=\"row_heading level0 row1\" >1</th>\n",
       "      <td id=\"T_3b50b_row1_col0\" class=\"data row1 col0\" >09:03</td>\n",
       "      <td id=\"T_3b50b_row1_col1\" class=\"data row1 col1\" >09:03</td>\n",
       "      <td id=\"T_3b50b_row1_col2\" class=\"data row1 col2\" >0.750000</td>\n",
       "      <td id=\"T_3b50b_row1_col3\" class=\"data row1 col3\" >09:34</td>\n",
       "      <td id=\"T_3b50b_row1_col4\" class=\"data row1 col4\" >09:34</td>\n",
       "      <td id=\"T_3b50b_row1_col5\" class=\"data row1 col5\" >30.2 minutes</td>\n",
       "    </tr>\n",
       "    <tr>\n",
       "      <th id=\"T_3b50b_level0_row2\" class=\"row_heading level0 row2\" >2</th>\n",
       "      <td id=\"T_3b50b_row2_col0\" class=\"data row2 col0\" >09:17</td>\n",
       "      <td id=\"T_3b50b_row2_col1\" class=\"data row2 col1\" >09:17</td>\n",
       "      <td id=\"T_3b50b_row2_col2\" class=\"data row2 col2\" >0.750000</td>\n",
       "      <td id=\"T_3b50b_row2_col3\" class=\"data row2 col3\" >10:01</td>\n",
       "      <td id=\"T_3b50b_row2_col4\" class=\"data row2 col4\" >10:01</td>\n",
       "      <td id=\"T_3b50b_row2_col5\" class=\"data row2 col5\" >43.8 minutes</td>\n",
       "    </tr>\n",
       "  </tbody>\n",
       "</table>\n"
      ],
      "text/plain": [
       "<pandas.io.formats.style.Styler at 0x11e9cdf90>"
      ]
     },
     "execution_count": 20,
     "metadata": {},
     "output_type": "execute_result"
    }
   ],
   "source": [
    "next_sf_trips_from_rwc"
   ]
  },
  {
   "cell_type": "code",
   "execution_count": 46,
   "id": "23dc792d",
   "metadata": {
    "ExecuteTime": {
     "end_time": "2023-05-11T18:40:52.756560Z",
     "start_time": "2023-05-11T18:40:52.715218Z"
    }
   },
   "outputs": [
    {
     "data": {
      "text/plain": [
       "39.25"
      ]
     },
     "execution_count": 46,
     "metadata": {},
     "output_type": "execute_result"
    }
   ],
   "source": [
    "next_sf_trips_from_rwc.duration.iloc[0].seconds/60"
   ]
  },
  {
   "cell_type": "markdown",
   "id": "e7f2d0d4",
   "metadata": {},
   "source": [
    "# Misc info gathering"
   ]
  },
  {
   "cell_type": "code",
   "execution_count": null,
   "id": "90e692c7",
   "metadata": {},
   "outputs": [],
   "source": [
    "# This gives caltrain operatorID: CT\n",
    "operators = f\"http://api.511.org/transit/operators?api_key={your_key}\"\n",
    "# this gives the name of rwc caltrain stop\n",
    "stops = f\"http://api.511.org/transit/stops?api_key={your_key}&operator_id={operatorID}&format=json\""
   ]
  },
  {
   "cell_type": "code",
   "execution_count": null,
   "id": "9492ecfd",
   "metadata": {},
   "outputs": [],
   "source": [
    "response_stops = request_to_json(stops)\n",
    "[x for x in response_stops.json()['Contents']['dataObjects']['ScheduledStopPoint'] if 'Redwood'.lower() in x['Name'].lower()]"
   ]
  }
 ],
 "metadata": {
  "kernelspec": {
   "display_name": "Python 3 (ipykernel)",
   "language": "python",
   "name": "python3"
  },
  "language_info": {
   "codemirror_mode": {
    "name": "ipython",
    "version": 3
   },
   "file_extension": ".py",
   "mimetype": "text/x-python",
   "name": "python",
   "nbconvert_exporter": "python",
   "pygments_lexer": "ipython3",
   "version": "3.10.2"
  },
  "toc": {
   "base_numbering": 1,
   "nav_menu": {},
   "number_sections": true,
   "sideBar": true,
   "skip_h1_title": false,
   "title_cell": "Table of Contents",
   "title_sidebar": "Contents",
   "toc_cell": false,
   "toc_position": {},
   "toc_section_display": true,
   "toc_window_display": false
  }
 },
 "nbformat": 4,
 "nbformat_minor": 5
}
