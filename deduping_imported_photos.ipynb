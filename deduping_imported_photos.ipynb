{
 "cells": [
  {
   "cell_type": "code",
   "execution_count": 1,
   "id": "9a6c5046",
   "metadata": {
    "ExecuteTime": {
     "end_time": "2022-12-13T23:03:36.651951Z",
     "start_time": "2022-12-13T23:03:36.633197Z"
    }
   },
   "outputs": [],
   "source": [
    "from glob import glob"
   ]
  },
  {
   "cell_type": "code",
   "execution_count": 182,
   "id": "c3765646",
   "metadata": {
    "ExecuteTime": {
     "end_time": "2022-12-13T17:32:07.960631Z",
     "start_time": "2022-12-13T17:32:07.398368Z"
    }
   },
   "outputs": [],
   "source": [
    "fns = glob(\"/Users/ahakso/odrive/agl/Media/Pictures/iphone full quality/*\")\n",
    "ftypes = set([x.split('.')[-1] for x in fns if x.split('.')[-1] != 'cloud'])\n",
    "fns = []\n",
    "for ftype in ftypes:\n",
    "    fns += glob(f\"/Users/ahakso/odrive/agl/Media/Pictures/iphone full quality/*.{ftype}\")"
   ]
  },
  {
   "cell_type": "code",
   "execution_count": 183,
   "id": "47e5fc56",
   "metadata": {
    "ExecuteTime": {
     "end_time": "2022-12-13T17:32:09.562771Z",
     "start_time": "2022-12-13T17:32:08.661391Z"
    }
   },
   "outputs": [],
   "source": [
    "raw = pd.DataFrame(\n",
    "    [\n",
    "        fns,\n",
    "        [x.split(\"/\")[-1] for x in fns],\n",
    "        [pd.Timestamp(datetime.fromtimestamp(os.stat(x).st_birthtime)) for x in fns],\n",
    "        [pd.Timestamp(datetime.fromtimestamp(os.stat(x).st_mtime)) for x in fns],\n",
    "        [pd.Timestamp(datetime.fromtimestamp(os.stat(x).st_ctime)) for x in fns],\n",
    "        [os.stat(x).st_size for x in fns],\n",
    "    ],\n",
    "    #     [fns,[x.split('/')[-1] for x in fns], ],\n",
    "    index=[\"pth\", \"fn\", \"created\", \"modified\",\"metadata_change\",\"bits\"],\n",
    ").T"
   ]
  },
  {
   "cell_type": "code",
   "execution_count": 184,
   "id": "eaf08ff2",
   "metadata": {
    "ExecuteTime": {
     "end_time": "2022-12-13T17:32:10.013958Z",
     "start_time": "2022-12-13T17:32:09.972825Z"
    }
   },
   "outputs": [],
   "source": [
    "df = raw.loc[lambda df: (df.metadata_change > '2022-12-01') & (raw.bits > 1000)]"
   ]
  },
  {
   "cell_type": "code",
   "execution_count": 213,
   "id": "e7a79fec",
   "metadata": {
    "ExecuteTime": {
     "end_time": "2022-12-13T18:20:43.869975Z",
     "start_time": "2022-12-13T18:20:43.843395Z"
    }
   },
   "outputs": [],
   "source": [
    "def dedupe(df):\n",
    "    if len(df) == 2:\n",
    "        df.loc[df.fn.str.len().idxmin(),:]\n",
    "    else:\n",
    "        return df"
   ]
  },
  {
   "cell_type": "code",
   "execution_count": 219,
   "id": "c29a4742",
   "metadata": {
    "ExecuteTime": {
     "end_time": "2022-12-13T18:24:15.437270Z",
     "start_time": "2022-12-13T18:24:12.083441Z"
    }
   },
   "outputs": [],
   "source": [
    "deduped = raw.groupby('bits').apply(dedupe)"
   ]
  },
  {
   "cell_type": "code",
   "execution_count": 220,
   "id": "1b04164c",
   "metadata": {
    "ExecuteTime": {
     "end_time": "2022-12-13T18:24:15.477286Z",
     "start_time": "2022-12-13T18:24:15.439950Z"
    }
   },
   "outputs": [],
   "source": [
    "t = pd.merge(deduped,raw.loc[:,['fn','bits']],on='fn',how='outer')"
   ]
  },
  {
   "cell_type": "code",
   "execution_count": 235,
   "id": "c67d5a81",
   "metadata": {
    "ExecuteTime": {
     "end_time": "2022-12-13T18:28:14.959223Z",
     "start_time": "2022-12-13T18:28:14.887077Z"
    }
   },
   "outputs": [
    {
     "data": {
      "text/html": [
       "<div>\n",
       "<style scoped>\n",
       "    .dataframe tbody tr th:only-of-type {\n",
       "        vertical-align: middle;\n",
       "    }\n",
       "\n",
       "    .dataframe tbody tr th {\n",
       "        vertical-align: top;\n",
       "    }\n",
       "\n",
       "    .dataframe thead th {\n",
       "        text-align: right;\n",
       "    }\n",
       "</style>\n",
       "<table border=\"1\" class=\"dataframe\">\n",
       "  <thead>\n",
       "    <tr style=\"text-align: right;\">\n",
       "      <th></th>\n",
       "      <th>pth</th>\n",
       "      <th>fn</th>\n",
       "      <th>created</th>\n",
       "      <th>modified</th>\n",
       "      <th>metadata_change</th>\n",
       "      <th>bits</th>\n",
       "    </tr>\n",
       "  </thead>\n",
       "  <tbody>\n",
       "  </tbody>\n",
       "</table>\n",
       "</div>"
      ],
      "text/plain": [
       "Empty DataFrame\n",
       "Columns: [pth, fn, created, modified, metadata_change, bits]\n",
       "Index: []"
      ]
     },
     "execution_count": 235,
     "metadata": {},
     "output_type": "execute_result"
    }
   ],
   "source": [
    "raw.loc[~raw.fn.str.contains(r'.')]"
   ]
  },
  {
   "cell_type": "code",
   "execution_count": 245,
   "id": "2249e8a4",
   "metadata": {
    "ExecuteTime": {
     "end_time": "2022-12-13T18:30:02.091851Z",
     "start_time": "2022-12-13T18:30:02.037660Z"
    }
   },
   "outputs": [],
   "source": [
    "bad_pths = raw.loc[\n",
    "    raw.assign(first7=lambda df: df.fn.str[:7]).duplicated(\n",
    "        subset=[\"first7\", \"bits\"], keep=False\n",
    "    )\n",
    "].loc[lambda df: df.fn.apply(lambda x: x.split(\".\")[0][-2:] == \" 1\")]"
   ]
  },
  {
   "cell_type": "code",
   "execution_count": null,
   "id": "e24a0978",
   "metadata": {},
   "outputs": [],
   "source": []
  },
  {
   "cell_type": "code",
   "execution_count": 249,
   "id": "ae916190",
   "metadata": {
    "ExecuteTime": {
     "end_time": "2022-12-13T18:31:43.009139Z",
     "start_time": "2022-12-13T18:31:38.379256Z"
    }
   },
   "outputs": [],
   "source": [
    "for dups in bad_pths.pth.values:\n",
    "    try:\n",
    "        os.remove(dups)\n",
    "    except FileNotFoundError:\n",
    "        pass"
   ]
  },
  {
   "cell_type": "code",
   "execution_count": 275,
   "id": "4df39c62",
   "metadata": {
    "ExecuteTime": {
     "end_time": "2022-12-13T18:41:23.050495Z",
     "start_time": "2022-12-13T18:41:22.840808Z"
    }
   },
   "outputs": [],
   "source": [
    "\n",
    "     \n",
    "fns = glob(\"/Users/ahakso/odrive/agl/Media/Pictures/iphone full quality/*\")\n",
    "ftypes = set([x.split('.')[-1] for x in fns if x.split('.')[-1] not in ('AAE','cloud')])\n",
    "fns = []\n",
    "for ftype in ftypes:\n",
    "    fns += [x for x in glob(f\"/Users/ahakso/Pictures/*.{ftype}\")]"
   ]
  },
  {
   "cell_type": "code",
   "execution_count": 266,
   "id": "fe71db97",
   "metadata": {
    "ExecuteTime": {
     "end_time": "2022-12-13T18:37:56.242992Z",
     "start_time": "2022-12-13T18:37:56.101539Z"
    }
   },
   "outputs": [],
   "source": [
    "backed_up = [x.split('/')[-1] for x in glob(\"/Users/ahakso/odrive/agl/Media/Pictures/iphone full quality/*\")]"
   ]
  },
  {
   "cell_type": "code",
   "execution_count": 274,
   "id": "40ea56ed",
   "metadata": {
    "ExecuteTime": {
     "end_time": "2022-12-13T18:40:49.373180Z",
     "start_time": "2022-12-13T18:40:48.902990Z"
    }
   },
   "outputs": [],
   "source": [
    "for fn in fns:\n",
    "    if fn in backed_up:\n",
    "        pass\n",
    "    elif fn.split('.')[0][-2:] not in (' 1',' 2'):\n",
    "        raise ValueError(f'missing {fn}')"
   ]
  },
  {
   "cell_type": "code",
   "execution_count": 276,
   "id": "c152831b",
   "metadata": {
    "ExecuteTime": {
     "end_time": "2022-12-13T18:41:27.909682Z",
     "start_time": "2022-12-13T18:41:25.917370Z"
    }
   },
   "outputs": [],
   "source": [
    "for fn in fns:\n",
    "    os.remove(fn)"
   ]
  },
  {
   "cell_type": "code",
   "execution_count": 255,
   "id": "a76c6fdb",
   "metadata": {
    "ExecuteTime": {
     "end_time": "2022-12-13T18:35:34.098983Z",
     "start_time": "2022-12-13T18:35:34.069830Z"
    }
   },
   "outputs": [
    {
     "data": {
      "text/plain": [
       "{'AAE', 'HEIC', 'JPEG', 'JPG', 'MOV', 'MP4', 'PNG'}"
      ]
     },
     "execution_count": 255,
     "metadata": {},
     "output_type": "execute_result"
    }
   ],
   "source": [
    "ftypes"
   ]
  },
  {
   "cell_type": "code",
   "execution_count": 243,
   "id": "17d58fd9",
   "metadata": {
    "ExecuteTime": {
     "end_time": "2022-12-13T18:29:43.500596Z",
     "start_time": "2022-12-13T18:29:43.466239Z"
    }
   },
   "outputs": [
    {
     "data": {
      "text/plain": [
       "0      IMG_E9506\n",
       "1       IMG_8861\n",
       "2       IMG_9773\n",
       "3       IMG_9289\n",
       "4       IMG_4141\n",
       "5       IMG_8532\n",
       "6      IMG_E5525\n",
       "7       IMG_0552\n",
       "8       IMG_8162\n",
       "9       IMG_7278\n",
       "10      IMG_5245\n",
       "11     IMG_E5460\n",
       "12      IMG_7782\n",
       "13     IMG_E9910\n",
       "14      IMG_8027\n",
       "15     IMG_E9443\n",
       "16      IMG_8924\n",
       "17      IMG_9636\n",
       "18      IMG_0694\n",
       "19    IMG_9900 1\n",
       "20      IMG_5496\n",
       "21      IMG_6740\n",
       "22      IMG_7852\n",
       "23     IMG_E6165\n",
       "24     IMG_E9290\n",
       "25      IMG_4792\n",
       "26      IMG_6605\n",
       "27      IMG_7917\n",
       "28      IMG_5479\n",
       "29      IMG_9909\n",
       "30      IMG_0505\n",
       "31     IMG_E8710\n",
       "32      IMG_8135\n",
       "33      IMG_5357\n",
       "34      IMG_6982\n",
       "35      IMG_0155\n",
       "36      IMG_8565\n",
       "37     IMG_E4733\n",
       "38      IMG_4116\n",
       "39      IMG_9724\n",
       "40      IMG_4546\n",
       "41     IMG_E4699\n",
       "42      IMG_9374\n",
       "43      IMG_8973\n",
       "44     IMG_E5964\n",
       "45      IMG_9231\n",
       "46     IMG_E9414\n",
       "47      IMG_4403\n",
       "48      IMG_0440\n",
       "49      IMG_7385\n",
       "50     IMG_E0635\n",
       "51      IMG_0010\n",
       "52      IMG_8420\n",
       "53      IMG_5212\n",
       "54      PPAC9082\n",
       "55     IMG_E5437\n",
       "56      IMG_9118\n",
       "57     IMG_E6132\n",
       "58      IMG_9548\n",
       "59      IMG_4680\n",
       "60      IMG_6347\n",
       "61     IMG_E9697\n",
       "62      IMG_8709\n",
       "63      IMG_0339\n",
       "64      IMG_8359\n",
       "65      IMG_0293\n",
       "66      IMG_7043\n",
       "67     IMG_E6974\n",
       "68      IMG_5584\n",
       "69     IMG_E6077\n",
       "70     IMG_E6348\n",
       "71     IMG_E4375\n",
       "72      IMG_4550\n",
       "73      IMG_9698\n",
       "74      IMG_9732\n",
       "75      IMG_8573\n",
       "76      IMG_0143\n",
       "77     IMG_E5564\n",
       "78      IMG_5341\n",
       "79      IMG_8089\n",
       "80      IMG_8123\n",
       "81      IMG_5711\n",
       "82     IMG_E5421\n",
       "83      IMG_7239\n",
       "84     IMG_E8213\n",
       "85      IMG_8436\n",
       "86      IMG_0006\n",
       "87      IMG_0456\n",
       "88     IMG_E4230\n",
       "89      IMG_9227\n",
       "90      IMG_9677\n",
       "91      IMG_8965\n",
       "92     IMG_E8090\n",
       "93      IMG_0285\n",
       "94      IMG_7540\n",
       "95     IMG_E5358\n",
       "96     IMG_E6827\n",
       "97      IMG_6351\n",
       "98      IMG_4696\n",
       "99     IMG_E4119\n",
       "Name: fn, dtype: object"
      ]
     },
     "execution_count": 243,
     "metadata": {},
     "output_type": "execute_result"
    }
   ],
   "source": [
    "df = raw.head(100)\n",
    "df.fn.apply(lambda x: x.split(\".\")[0])"
   ]
  },
  {
   "cell_type": "code",
   "execution_count": 215,
   "id": "a8395fc9",
   "metadata": {
    "ExecuteTime": {
     "end_time": "2022-12-13T18:20:47.793966Z",
     "start_time": "2022-12-13T18:20:47.741109Z"
    }
   },
   "outputs": [
    {
     "data": {
      "text/html": [
       "<div>\n",
       "<style scoped>\n",
       "    .dataframe tbody tr th:only-of-type {\n",
       "        vertical-align: middle;\n",
       "    }\n",
       "\n",
       "    .dataframe tbody tr th {\n",
       "        vertical-align: top;\n",
       "    }\n",
       "\n",
       "    .dataframe thead th {\n",
       "        text-align: right;\n",
       "    }\n",
       "</style>\n",
       "<table border=\"1\" class=\"dataframe\">\n",
       "  <thead>\n",
       "    <tr style=\"text-align: right;\">\n",
       "      <th></th>\n",
       "      <th>pth</th>\n",
       "      <th>fn</th>\n",
       "      <th>created</th>\n",
       "      <th>modified</th>\n",
       "      <th>metadata_change</th>\n",
       "      <th>bits_x</th>\n",
       "      <th>bits_y</th>\n",
       "    </tr>\n",
       "  </thead>\n",
       "  <tbody>\n",
       "    <tr>\n",
       "      <th>0</th>\n",
       "      <td>/Users/ahakso/odrive/agl/Media/Pictures/iphone...</td>\n",
       "      <td>IMG_9554 1.AAE</td>\n",
       "      <td>2022-04-18 10:17:11</td>\n",
       "      <td>2022-04-18 10:17:11</td>\n",
       "      <td>2022-12-12 12:11:47.182125</td>\n",
       "      <td>824</td>\n",
       "      <td>824</td>\n",
       "    </tr>\n",
       "    <tr>\n",
       "      <th>1</th>\n",
       "      <td>/Users/ahakso/odrive/agl/Media/Pictures/iphone...</td>\n",
       "      <td>IMG_1566 1.AAE</td>\n",
       "      <td>2022-10-30 09:02:00</td>\n",
       "      <td>2022-10-30 09:02:00</td>\n",
       "      <td>2022-12-12 12:26:24.207105</td>\n",
       "      <td>824</td>\n",
       "      <td>824</td>\n",
       "    </tr>\n",
       "    <tr>\n",
       "      <th>2</th>\n",
       "      <td>/Users/ahakso/odrive/agl/Media/Pictures/iphone...</td>\n",
       "      <td>IMG_8216.AAE</td>\n",
       "      <td>2022-03-11 06:45:35</td>\n",
       "      <td>2022-03-11 06:45:35</td>\n",
       "      <td>2022-12-11 11:28:45.300578</td>\n",
       "      <td>824</td>\n",
       "      <td>824</td>\n",
       "    </tr>\n",
       "    <tr>\n",
       "      <th>3</th>\n",
       "      <td>/Users/ahakso/odrive/agl/Media/Pictures/iphone...</td>\n",
       "      <td>IMG_1627.AAE</td>\n",
       "      <td>2022-11-02 18:40:42</td>\n",
       "      <td>2022-11-02 18:40:42</td>\n",
       "      <td>2022-12-12 11:34:29.145826</td>\n",
       "      <td>824</td>\n",
       "      <td>824</td>\n",
       "    </tr>\n",
       "    <tr>\n",
       "      <th>4</th>\n",
       "      <td>/Users/ahakso/odrive/agl/Media/Pictures/iphone...</td>\n",
       "      <td>IMG_0560 2.AAE</td>\n",
       "      <td>2022-07-03 12:58:25</td>\n",
       "      <td>2022-07-03 12:58:25</td>\n",
       "      <td>2022-12-12 12:18:03.843163</td>\n",
       "      <td>824</td>\n",
       "      <td>824</td>\n",
       "    </tr>\n",
       "  </tbody>\n",
       "</table>\n",
       "</div>"
      ],
      "text/plain": [
       "                                                 pth              fn  \\\n",
       "0  /Users/ahakso/odrive/agl/Media/Pictures/iphone...  IMG_9554 1.AAE   \n",
       "1  /Users/ahakso/odrive/agl/Media/Pictures/iphone...  IMG_1566 1.AAE   \n",
       "2  /Users/ahakso/odrive/agl/Media/Pictures/iphone...    IMG_8216.AAE   \n",
       "3  /Users/ahakso/odrive/agl/Media/Pictures/iphone...    IMG_1627.AAE   \n",
       "4  /Users/ahakso/odrive/agl/Media/Pictures/iphone...  IMG_0560 2.AAE   \n",
       "\n",
       "              created            modified            metadata_change bits_x  \\\n",
       "0 2022-04-18 10:17:11 2022-04-18 10:17:11 2022-12-12 12:11:47.182125    824   \n",
       "1 2022-10-30 09:02:00 2022-10-30 09:02:00 2022-12-12 12:26:24.207105    824   \n",
       "2 2022-03-11 06:45:35 2022-03-11 06:45:35 2022-12-11 11:28:45.300578    824   \n",
       "3 2022-11-02 18:40:42 2022-11-02 18:40:42 2022-12-12 11:34:29.145826    824   \n",
       "4 2022-07-03 12:58:25 2022-07-03 12:58:25 2022-12-12 12:18:03.843163    824   \n",
       "\n",
       "  bits_y  \n",
       "0    824  \n",
       "1    824  \n",
       "2    824  \n",
       "3    824  \n",
       "4    824  "
      ]
     },
     "execution_count": 215,
     "metadata": {},
     "output_type": "execute_result"
    }
   ],
   "source": [
    "t.head()"
   ]
  },
  {
   "cell_type": "code",
   "execution_count": 221,
   "id": "1fefcc32",
   "metadata": {
    "ExecuteTime": {
     "end_time": "2022-12-13T18:24:25.294712Z",
     "start_time": "2022-12-13T18:24:25.257916Z"
    }
   },
   "outputs": [
    {
     "data": {
      "text/html": [
       "<div>\n",
       "<style scoped>\n",
       "    .dataframe tbody tr th:only-of-type {\n",
       "        vertical-align: middle;\n",
       "    }\n",
       "\n",
       "    .dataframe tbody tr th {\n",
       "        vertical-align: top;\n",
       "    }\n",
       "\n",
       "    .dataframe thead th {\n",
       "        text-align: right;\n",
       "    }\n",
       "</style>\n",
       "<table border=\"1\" class=\"dataframe\">\n",
       "  <thead>\n",
       "    <tr style=\"text-align: right;\">\n",
       "      <th></th>\n",
       "      <th></th>\n",
       "      <th>pth</th>\n",
       "      <th>fn</th>\n",
       "      <th>created</th>\n",
       "      <th>modified</th>\n",
       "      <th>metadata_change</th>\n",
       "      <th>bits</th>\n",
       "    </tr>\n",
       "    <tr>\n",
       "      <th>bits</th>\n",
       "      <th></th>\n",
       "      <th></th>\n",
       "      <th></th>\n",
       "      <th></th>\n",
       "      <th></th>\n",
       "      <th></th>\n",
       "      <th></th>\n",
       "    </tr>\n",
       "  </thead>\n",
       "  <tbody>\n",
       "  </tbody>\n",
       "</table>\n",
       "</div>"
      ],
      "text/plain": [
       "Empty DataFrame\n",
       "Columns: [pth, fn, created, modified, metadata_change, bits]\n",
       "Index: []"
      ]
     },
     "execution_count": 221,
     "metadata": {},
     "output_type": "execute_result"
    }
   ],
   "source": [
    "deduped.loc[lambda df: df.fn.str.contains('BEFM8640')]"
   ]
  },
  {
   "cell_type": "code",
   "execution_count": 212,
   "id": "21a18f63",
   "metadata": {
    "ExecuteTime": {
     "end_time": "2022-12-13T18:20:36.015105Z",
     "start_time": "2022-12-13T18:20:35.979295Z"
    }
   },
   "outputs": [
    {
     "data": {
      "text/plain": [
       "2"
      ]
     },
     "execution_count": 212,
     "metadata": {},
     "output_type": "execute_result"
    }
   ],
   "source": [
    "len(raw.loc[[14717,15226],:])#.loc[lambda df: df.fn.str.len().idxmax()]"
   ]
  },
  {
   "cell_type": "code",
   "execution_count": 207,
   "id": "c00c159c",
   "metadata": {
    "ExecuteTime": {
     "end_time": "2022-12-13T17:41:41.869486Z",
     "start_time": "2022-12-13T17:41:41.756712Z"
    }
   },
   "outputs": [
    {
     "data": {
      "text/html": [
       "<div>\n",
       "<style scoped>\n",
       "    .dataframe tbody tr th:only-of-type {\n",
       "        vertical-align: middle;\n",
       "    }\n",
       "\n",
       "    .dataframe tbody tr th {\n",
       "        vertical-align: top;\n",
       "    }\n",
       "\n",
       "    .dataframe thead th {\n",
       "        text-align: right;\n",
       "    }\n",
       "</style>\n",
       "<table border=\"1\" class=\"dataframe\">\n",
       "  <thead>\n",
       "    <tr style=\"text-align: right;\">\n",
       "      <th></th>\n",
       "      <th>pth</th>\n",
       "      <th>fn</th>\n",
       "      <th>created</th>\n",
       "      <th>modified</th>\n",
       "      <th>metadata_change</th>\n",
       "      <th>bits_x</th>\n",
       "      <th>bits_y</th>\n",
       "    </tr>\n",
       "  </thead>\n",
       "  <tbody>\n",
       "    <tr>\n",
       "      <th>14717</th>\n",
       "      <td>NaN</td>\n",
       "      <td>BEFM8640 1.JPG</td>\n",
       "      <td>NaT</td>\n",
       "      <td>NaT</td>\n",
       "      <td>NaT</td>\n",
       "      <td>NaN</td>\n",
       "      <td>4080812</td>\n",
       "    </tr>\n",
       "    <tr>\n",
       "      <th>15226</th>\n",
       "      <td>NaN</td>\n",
       "      <td>BEFM8640.JPG</td>\n",
       "      <td>NaT</td>\n",
       "      <td>NaT</td>\n",
       "      <td>NaT</td>\n",
       "      <td>NaN</td>\n",
       "      <td>4080812</td>\n",
       "    </tr>\n",
       "    <tr>\n",
       "      <th>16698</th>\n",
       "      <td>NaN</td>\n",
       "      <td>BOGK7534.JPG</td>\n",
       "      <td>NaT</td>\n",
       "      <td>NaT</td>\n",
       "      <td>NaT</td>\n",
       "      <td>NaN</td>\n",
       "      <td>178660</td>\n",
       "    </tr>\n",
       "    <tr>\n",
       "      <th>14863</th>\n",
       "      <td>NaN</td>\n",
       "      <td>BVJX4017.JPG</td>\n",
       "      <td>NaT</td>\n",
       "      <td>NaT</td>\n",
       "      <td>NaT</td>\n",
       "      <td>NaN</td>\n",
       "      <td>1685371</td>\n",
       "    </tr>\n",
       "    <tr>\n",
       "      <th>16900</th>\n",
       "      <td>NaN</td>\n",
       "      <td>BVJXE4017.JPG</td>\n",
       "      <td>NaT</td>\n",
       "      <td>NaT</td>\n",
       "      <td>NaT</td>\n",
       "      <td>NaN</td>\n",
       "      <td>1685371</td>\n",
       "    </tr>\n",
       "    <tr>\n",
       "      <th>...</th>\n",
       "      <td>...</td>\n",
       "      <td>...</td>\n",
       "      <td>...</td>\n",
       "      <td>...</td>\n",
       "      <td>...</td>\n",
       "      <td>...</td>\n",
       "      <td>...</td>\n",
       "    </tr>\n",
       "    <tr>\n",
       "      <th>15556</th>\n",
       "      <td>NaN</td>\n",
       "      <td>WKIFE9865.JPG</td>\n",
       "      <td>NaT</td>\n",
       "      <td>NaT</td>\n",
       "      <td>NaT</td>\n",
       "      <td>NaN</td>\n",
       "      <td>1773656</td>\n",
       "    </tr>\n",
       "    <tr>\n",
       "      <th>16687</th>\n",
       "      <td>NaN</td>\n",
       "      <td>XKLP3176 1.JPG</td>\n",
       "      <td>NaT</td>\n",
       "      <td>NaT</td>\n",
       "      <td>NaT</td>\n",
       "      <td>NaN</td>\n",
       "      <td>7256319</td>\n",
       "    </tr>\n",
       "    <tr>\n",
       "      <th>15450</th>\n",
       "      <td>NaN</td>\n",
       "      <td>XKLP3176.JPG</td>\n",
       "      <td>NaT</td>\n",
       "      <td>NaT</td>\n",
       "      <td>NaT</td>\n",
       "      <td>NaN</td>\n",
       "      <td>7256319</td>\n",
       "    </tr>\n",
       "    <tr>\n",
       "      <th>12324</th>\n",
       "      <td>NaN</td>\n",
       "      <td>XWKC6675 1.MOV</td>\n",
       "      <td>NaT</td>\n",
       "      <td>NaT</td>\n",
       "      <td>NaT</td>\n",
       "      <td>NaN</td>\n",
       "      <td>157427941</td>\n",
       "    </tr>\n",
       "    <tr>\n",
       "      <th>12740</th>\n",
       "      <td>NaN</td>\n",
       "      <td>XWKC6675.MOV</td>\n",
       "      <td>NaT</td>\n",
       "      <td>NaT</td>\n",
       "      <td>NaT</td>\n",
       "      <td>NaN</td>\n",
       "      <td>157427941</td>\n",
       "    </tr>\n",
       "  </tbody>\n",
       "</table>\n",
       "<p>4864 rows × 7 columns</p>\n",
       "</div>"
      ],
      "text/plain": [
       "       pth              fn created modified metadata_change bits_x     bits_y\n",
       "14717  NaN  BEFM8640 1.JPG     NaT      NaT             NaT    NaN    4080812\n",
       "15226  NaN    BEFM8640.JPG     NaT      NaT             NaT    NaN    4080812\n",
       "16698  NaN    BOGK7534.JPG     NaT      NaT             NaT    NaN     178660\n",
       "14863  NaN    BVJX4017.JPG     NaT      NaT             NaT    NaN    1685371\n",
       "16900  NaN   BVJXE4017.JPG     NaT      NaT             NaT    NaN    1685371\n",
       "...    ...             ...     ...      ...             ...    ...        ...\n",
       "15556  NaN   WKIFE9865.JPG     NaT      NaT             NaT    NaN    1773656\n",
       "16687  NaN  XKLP3176 1.JPG     NaT      NaT             NaT    NaN    7256319\n",
       "15450  NaN    XKLP3176.JPG     NaT      NaT             NaT    NaN    7256319\n",
       "12324  NaN  XWKC6675 1.MOV     NaT      NaT             NaT    NaN  157427941\n",
       "12740  NaN    XWKC6675.MOV     NaT      NaT             NaT    NaN  157427941\n",
       "\n",
       "[4864 rows x 7 columns]"
      ]
     },
     "execution_count": 207,
     "metadata": {},
     "output_type": "execute_result"
    }
   ],
   "source": [
    "t.sort_values(['bits_y','fn']).loc[t.sort_values(['bits_x','fn']).isna().sum(axis=1).astype(bool)]"
   ]
  },
  {
   "cell_type": "code",
   "execution_count": 179,
   "id": "39351a50",
   "metadata": {
    "ExecuteTime": {
     "end_time": "2022-12-13T17:29:30.813689Z",
     "start_time": "2022-12-13T17:29:30.605130Z"
    }
   },
   "outputs": [
    {
     "data": {
      "text/plain": [
       "<AxesSubplot:xlabel='rnk'>"
      ]
     },
     "execution_count": 179,
     "metadata": {},
     "output_type": "execute_result"
    },
    {
     "data": {
      "image/png": "[encoded data removed]",
      "text/plain": [
       "<Figure size 432x288 with 1 Axes>"
      ]
     },
     "metadata": {
      "image/png": {
       "height": 283,
       "width": 364
      },
      "needs_background": "light"
     },
     "output_type": "display_data"
    }
   ],
   "source": [
    "raw.sort_values('bits').assign(rnk=range(len(raw))).plot(x='rnk',y='bits')"
   ]
  },
  {
   "cell_type": "code",
   "execution_count": 175,
   "id": "0fe2f90c",
   "metadata": {
    "ExecuteTime": {
     "end_time": "2022-12-13T17:28:37.156190Z",
     "start_time": "2022-12-13T17:28:36.933304Z"
    }
   },
   "outputs": [
    {
     "data": {
      "text/plain": [
       "<AxesSubplot:>"
      ]
     },
     "execution_count": 175,
     "metadata": {},
     "output_type": "execute_result"
    },
    {
     "data": {
      "image/png": "[encoded data removed]",
      "text/plain": [
       "<Figure size 432x288 with 1 Axes>"
      ]
     },
     "metadata": {
      "image/png": {
       "height": 267,
       "width": 387
      },
      "needs_background": "light"
     },
     "output_type": "display_data"
    }
   ],
   "source": [
    "raw.bits.hist(bins=np.linspace(0,1e6,40))"
   ]
  },
  {
   "cell_type": "code",
   "execution_count": 140,
   "id": "d62fadd4",
   "metadata": {
    "ExecuteTime": {
     "end_time": "2022-12-13T01:16:25.229941Z",
     "start_time": "2022-12-13T01:16:25.198424Z"
    }
   },
   "outputs": [],
   "source": [
    "df = raw.loc[lambda df: df.created > '2022-12-01']#.sort_values('created').metadata_change.hist()#.iloc[-1,0]\n",
    "# plt.gcf().autofmt_xdate()"
   ]
  },
  {
   "cell_type": "code",
   "execution_count": 153,
   "id": "cb98b53f",
   "metadata": {
    "ExecuteTime": {
     "end_time": "2022-12-13T01:39:41.601380Z",
     "start_time": "2022-12-13T01:39:41.509969Z"
    }
   },
   "outputs": [],
   "source": [
    "dr = pd.date_range(df.loc[:,df.dtypes=='datetime64[ns]'].min().min(),df.loc[:,df.dtypes=='datetime64[ns]'].max().max(),freq='2H')\n",
    "cnts = []\n",
    "time_cols = df.loc[:,df.dtypes=='datetime64[ns]'].columns\n",
    "for c in  time_cols:\n",
    "    tmp = df.assign(interval=pd.cut(df.loc[:,c],dr)).groupby('interval').apply(lambda x: len(x))\n",
    "    tmp.name = c\n",
    "    cnts.append(tmp)\n",
    "cnts = pd.DataFrame(cnts).T"
   ]
  },
  {
   "cell_type": "code",
   "execution_count": 154,
   "id": "c0a195a1",
   "metadata": {
    "ExecuteTime": {
     "end_time": "2022-12-13T01:39:42.549763Z",
     "start_time": "2022-12-13T01:39:42.509490Z"
    }
   },
   "outputs": [
    {
     "data": {
      "text/html": [
       "<div>\n",
       "<style scoped>\n",
       "    .dataframe tbody tr th:only-of-type {\n",
       "        vertical-align: middle;\n",
       "    }\n",
       "\n",
       "    .dataframe tbody tr th {\n",
       "        vertical-align: top;\n",
       "    }\n",
       "\n",
       "    .dataframe thead th {\n",
       "        text-align: right;\n",
       "    }\n",
       "</style>\n",
       "<table border=\"1\" class=\"dataframe\">\n",
       "  <thead>\n",
       "    <tr style=\"text-align: right;\">\n",
       "      <th></th>\n",
       "      <th>created</th>\n",
       "      <th>modified</th>\n",
       "      <th>metadata_change</th>\n",
       "    </tr>\n",
       "    <tr>\n",
       "      <th>interval</th>\n",
       "      <th></th>\n",
       "      <th></th>\n",
       "      <th></th>\n",
       "    </tr>\n",
       "  </thead>\n",
       "  <tbody>\n",
       "    <tr>\n",
       "      <th>(2022-12-01 06:29:57, 2022-12-01 08:29:57]</th>\n",
       "      <td>10</td>\n",
       "      <td>10</td>\n",
       "      <td>0</td>\n",
       "    </tr>\n",
       "    <tr>\n",
       "      <th>(2022-12-01 08:29:57, 2022-12-01 10:29:57]</th>\n",
       "      <td>0</td>\n",
       "      <td>0</td>\n",
       "      <td>0</td>\n",
       "    </tr>\n",
       "    <tr>\n",
       "      <th>(2022-12-01 10:29:57, 2022-12-01 12:29:57]</th>\n",
       "      <td>0</td>\n",
       "      <td>0</td>\n",
       "      <td>0</td>\n",
       "    </tr>\n",
       "    <tr>\n",
       "      <th>(2022-12-01 12:29:57, 2022-12-01 14:29:57]</th>\n",
       "      <td>0</td>\n",
       "      <td>0</td>\n",
       "      <td>0</td>\n",
       "    </tr>\n",
       "    <tr>\n",
       "      <th>(2022-12-01 14:29:57, 2022-12-01 16:29:57]</th>\n",
       "      <td>0</td>\n",
       "      <td>0</td>\n",
       "      <td>0</td>\n",
       "    </tr>\n",
       "    <tr>\n",
       "      <th>...</th>\n",
       "      <td>...</td>\n",
       "      <td>...</td>\n",
       "      <td>...</td>\n",
       "    </tr>\n",
       "    <tr>\n",
       "      <th>(2022-12-12 02:29:57, 2022-12-12 04:29:57]</th>\n",
       "      <td>0</td>\n",
       "      <td>0</td>\n",
       "      <td>0</td>\n",
       "    </tr>\n",
       "    <tr>\n",
       "      <th>(2022-12-12 04:29:57, 2022-12-12 06:29:57]</th>\n",
       "      <td>0</td>\n",
       "      <td>0</td>\n",
       "      <td>0</td>\n",
       "    </tr>\n",
       "    <tr>\n",
       "      <th>(2022-12-12 06:29:57, 2022-12-12 08:29:57]</th>\n",
       "      <td>0</td>\n",
       "      <td>0</td>\n",
       "      <td>0</td>\n",
       "    </tr>\n",
       "    <tr>\n",
       "      <th>(2022-12-12 08:29:57, 2022-12-12 10:29:57]</th>\n",
       "      <td>0</td>\n",
       "      <td>0</td>\n",
       "      <td>0</td>\n",
       "    </tr>\n",
       "    <tr>\n",
       "      <th>(2022-12-12 10:29:57, 2022-12-12 12:29:57]</th>\n",
       "      <td>0</td>\n",
       "      <td>0</td>\n",
       "      <td>204</td>\n",
       "    </tr>\n",
       "  </tbody>\n",
       "</table>\n",
       "<p>135 rows × 3 columns</p>\n",
       "</div>"
      ],
      "text/plain": [
       "                                            created  modified  metadata_change\n",
       "interval                                                                      \n",
       "(2022-12-01 06:29:57, 2022-12-01 08:29:57]       10        10                0\n",
       "(2022-12-01 08:29:57, 2022-12-01 10:29:57]        0         0                0\n",
       "(2022-12-01 10:29:57, 2022-12-01 12:29:57]        0         0                0\n",
       "(2022-12-01 12:29:57, 2022-12-01 14:29:57]        0         0                0\n",
       "(2022-12-01 14:29:57, 2022-12-01 16:29:57]        0         0                0\n",
       "...                                             ...       ...              ...\n",
       "(2022-12-12 02:29:57, 2022-12-12 04:29:57]        0         0                0\n",
       "(2022-12-12 04:29:57, 2022-12-12 06:29:57]        0         0                0\n",
       "(2022-12-12 06:29:57, 2022-12-12 08:29:57]        0         0                0\n",
       "(2022-12-12 08:29:57, 2022-12-12 10:29:57]        0         0                0\n",
       "(2022-12-12 10:29:57, 2022-12-12 12:29:57]        0         0              204\n",
       "\n",
       "[135 rows x 3 columns]"
      ]
     },
     "execution_count": 154,
     "metadata": {},
     "output_type": "execute_result"
    }
   ],
   "source": [
    "cnts"
   ]
  },
  {
   "cell_type": "code",
   "execution_count": 157,
   "id": "b1a1751c",
   "metadata": {
    "ExecuteTime": {
     "end_time": "2022-12-13T01:41:43.950973Z",
     "start_time": "2022-12-13T01:41:43.912956Z"
    }
   },
   "outputs": [
    {
     "data": {
      "text/html": [
       "<div>\n",
       "<style scoped>\n",
       "    .dataframe tbody tr th:only-of-type {\n",
       "        vertical-align: middle;\n",
       "    }\n",
       "\n",
       "    .dataframe tbody tr th {\n",
       "        vertical-align: top;\n",
       "    }\n",
       "\n",
       "    .dataframe thead th {\n",
       "        text-align: right;\n",
       "    }\n",
       "</style>\n",
       "<table border=\"1\" class=\"dataframe\">\n",
       "  <thead>\n",
       "    <tr style=\"text-align: right;\">\n",
       "      <th></th>\n",
       "      <th>created</th>\n",
       "      <th>modified</th>\n",
       "      <th>metadata_change</th>\n",
       "    </tr>\n",
       "    <tr>\n",
       "      <th>interval</th>\n",
       "      <th></th>\n",
       "      <th></th>\n",
       "      <th></th>\n",
       "    </tr>\n",
       "  </thead>\n",
       "  <tbody>\n",
       "    <tr>\n",
       "      <th>(2022-12-01 06:29:57, 2022-12-01 08:29:57]</th>\n",
       "      <td>10</td>\n",
       "      <td>10</td>\n",
       "      <td>0</td>\n",
       "    </tr>\n",
       "    <tr>\n",
       "      <th>(2022-12-01 16:29:57, 2022-12-01 18:29:57]</th>\n",
       "      <td>2</td>\n",
       "      <td>2</td>\n",
       "      <td>0</td>\n",
       "    </tr>\n",
       "    <tr>\n",
       "      <th>(2022-12-02 06:29:57, 2022-12-02 08:29:57]</th>\n",
       "      <td>8</td>\n",
       "      <td>8</td>\n",
       "      <td>0</td>\n",
       "    </tr>\n",
       "    <tr>\n",
       "      <th>(2022-12-02 16:29:57, 2022-12-02 18:29:57]</th>\n",
       "      <td>1</td>\n",
       "      <td>1</td>\n",
       "      <td>0</td>\n",
       "    </tr>\n",
       "    <tr>\n",
       "      <th>(2022-12-03 06:29:57, 2022-12-03 08:29:57]</th>\n",
       "      <td>8</td>\n",
       "      <td>8</td>\n",
       "      <td>0</td>\n",
       "    </tr>\n",
       "    <tr>\n",
       "      <th>(2022-12-03 08:29:57, 2022-12-03 10:29:57]</th>\n",
       "      <td>2</td>\n",
       "      <td>2</td>\n",
       "      <td>0</td>\n",
       "    </tr>\n",
       "    <tr>\n",
       "      <th>(2022-12-04 06:29:57, 2022-12-04 08:29:57]</th>\n",
       "      <td>14</td>\n",
       "      <td>14</td>\n",
       "      <td>0</td>\n",
       "    </tr>\n",
       "    <tr>\n",
       "      <th>(2022-12-04 16:29:57, 2022-12-04 18:29:57]</th>\n",
       "      <td>12</td>\n",
       "      <td>12</td>\n",
       "      <td>0</td>\n",
       "    </tr>\n",
       "    <tr>\n",
       "      <th>(2022-12-05 06:29:57, 2022-12-05 08:29:57]</th>\n",
       "      <td>21</td>\n",
       "      <td>21</td>\n",
       "      <td>0</td>\n",
       "    </tr>\n",
       "    <tr>\n",
       "      <th>(2022-12-05 12:29:57, 2022-12-05 14:29:57]</th>\n",
       "      <td>4</td>\n",
       "      <td>4</td>\n",
       "      <td>0</td>\n",
       "    </tr>\n",
       "    <tr>\n",
       "      <th>(2022-12-05 16:29:57, 2022-12-05 18:29:57]</th>\n",
       "      <td>4</td>\n",
       "      <td>4</td>\n",
       "      <td>0</td>\n",
       "    </tr>\n",
       "    <tr>\n",
       "      <th>(2022-12-06 06:29:57, 2022-12-06 08:29:57]</th>\n",
       "      <td>8</td>\n",
       "      <td>8</td>\n",
       "      <td>0</td>\n",
       "    </tr>\n",
       "    <tr>\n",
       "      <th>(2022-12-06 08:29:57, 2022-12-06 10:29:57]</th>\n",
       "      <td>2</td>\n",
       "      <td>2</td>\n",
       "      <td>0</td>\n",
       "    </tr>\n",
       "    <tr>\n",
       "      <th>(2022-12-07 06:29:57, 2022-12-07 08:29:57]</th>\n",
       "      <td>2</td>\n",
       "      <td>2</td>\n",
       "      <td>0</td>\n",
       "    </tr>\n",
       "    <tr>\n",
       "      <th>(2022-12-07 10:29:57, 2022-12-07 12:29:57]</th>\n",
       "      <td>2</td>\n",
       "      <td>2</td>\n",
       "      <td>0</td>\n",
       "    </tr>\n",
       "    <tr>\n",
       "      <th>(2022-12-07 12:29:57, 2022-12-07 14:29:57]</th>\n",
       "      <td>2</td>\n",
       "      <td>2</td>\n",
       "      <td>0</td>\n",
       "    </tr>\n",
       "    <tr>\n",
       "      <th>(2022-12-07 18:29:57, 2022-12-07 20:29:57]</th>\n",
       "      <td>2</td>\n",
       "      <td>2</td>\n",
       "      <td>0</td>\n",
       "    </tr>\n",
       "    <tr>\n",
       "      <th>(2022-12-09 18:29:57, 2022-12-09 20:29:57]</th>\n",
       "      <td>6</td>\n",
       "      <td>6</td>\n",
       "      <td>0</td>\n",
       "    </tr>\n",
       "    <tr>\n",
       "      <th>(2022-12-10 06:29:57, 2022-12-10 08:29:57]</th>\n",
       "      <td>20</td>\n",
       "      <td>20</td>\n",
       "      <td>0</td>\n",
       "    </tr>\n",
       "    <tr>\n",
       "      <th>(2022-12-10 08:29:57, 2022-12-10 10:29:57]</th>\n",
       "      <td>40</td>\n",
       "      <td>40</td>\n",
       "      <td>0</td>\n",
       "    </tr>\n",
       "    <tr>\n",
       "      <th>(2022-12-10 12:29:57, 2022-12-10 14:29:57]</th>\n",
       "      <td>18</td>\n",
       "      <td>18</td>\n",
       "      <td>0</td>\n",
       "    </tr>\n",
       "    <tr>\n",
       "      <th>(2022-12-10 20:29:57, 2022-12-10 22:29:57]</th>\n",
       "      <td>8</td>\n",
       "      <td>8</td>\n",
       "      <td>0</td>\n",
       "    </tr>\n",
       "    <tr>\n",
       "      <th>(2022-12-11 06:29:57, 2022-12-11 08:29:57]</th>\n",
       "      <td>25</td>\n",
       "      <td>25</td>\n",
       "      <td>0</td>\n",
       "    </tr>\n",
       "    <tr>\n",
       "      <th>(2022-12-11 10:29:57, 2022-12-11 12:29:57]</th>\n",
       "      <td>40</td>\n",
       "      <td>40</td>\n",
       "      <td>101</td>\n",
       "    </tr>\n",
       "    <tr>\n",
       "      <th>(2022-12-11 12:29:57, 2022-12-11 14:29:57]</th>\n",
       "      <td>158</td>\n",
       "      <td>158</td>\n",
       "      <td>0</td>\n",
       "    </tr>\n",
       "    <tr>\n",
       "      <th>(2022-12-11 18:29:57, 2022-12-11 20:29:57]</th>\n",
       "      <td>16</td>\n",
       "      <td>16</td>\n",
       "      <td>0</td>\n",
       "    </tr>\n",
       "    <tr>\n",
       "      <th>(2022-12-12 10:29:57, 2022-12-12 12:29:57]</th>\n",
       "      <td>0</td>\n",
       "      <td>0</td>\n",
       "      <td>204</td>\n",
       "    </tr>\n",
       "  </tbody>\n",
       "</table>\n",
       "</div>"
      ],
      "text/plain": [
       "                                            created  modified  metadata_change\n",
       "interval                                                                      \n",
       "(2022-12-01 06:29:57, 2022-12-01 08:29:57]       10        10                0\n",
       "(2022-12-01 16:29:57, 2022-12-01 18:29:57]        2         2                0\n",
       "(2022-12-02 06:29:57, 2022-12-02 08:29:57]        8         8                0\n",
       "(2022-12-02 16:29:57, 2022-12-02 18:29:57]        1         1                0\n",
       "(2022-12-03 06:29:57, 2022-12-03 08:29:57]        8         8                0\n",
       "(2022-12-03 08:29:57, 2022-12-03 10:29:57]        2         2                0\n",
       "(2022-12-04 06:29:57, 2022-12-04 08:29:57]       14        14                0\n",
       "(2022-12-04 16:29:57, 2022-12-04 18:29:57]       12        12                0\n",
       "(2022-12-05 06:29:57, 2022-12-05 08:29:57]       21        21                0\n",
       "(2022-12-05 12:29:57, 2022-12-05 14:29:57]        4         4                0\n",
       "(2022-12-05 16:29:57, 2022-12-05 18:29:57]        4         4                0\n",
       "(2022-12-06 06:29:57, 2022-12-06 08:29:57]        8         8                0\n",
       "(2022-12-06 08:29:57, 2022-12-06 10:29:57]        2         2                0\n",
       "(2022-12-07 06:29:57, 2022-12-07 08:29:57]        2         2                0\n",
       "(2022-12-07 10:29:57, 2022-12-07 12:29:57]        2         2                0\n",
       "(2022-12-07 12:29:57, 2022-12-07 14:29:57]        2         2                0\n",
       "(2022-12-07 18:29:57, 2022-12-07 20:29:57]        2         2                0\n",
       "(2022-12-09 18:29:57, 2022-12-09 20:29:57]        6         6                0\n",
       "(2022-12-10 06:29:57, 2022-12-10 08:29:57]       20        20                0\n",
       "(2022-12-10 08:29:57, 2022-12-10 10:29:57]       40        40                0\n",
       "(2022-12-10 12:29:57, 2022-12-10 14:29:57]       18        18                0\n",
       "(2022-12-10 20:29:57, 2022-12-10 22:29:57]        8         8                0\n",
       "(2022-12-11 06:29:57, 2022-12-11 08:29:57]       25        25                0\n",
       "(2022-12-11 10:29:57, 2022-12-11 12:29:57]       40        40              101\n",
       "(2022-12-11 12:29:57, 2022-12-11 14:29:57]      158       158                0\n",
       "(2022-12-11 18:29:57, 2022-12-11 20:29:57]       16        16                0\n",
       "(2022-12-12 10:29:57, 2022-12-12 12:29:57]        0         0              204"
      ]
     },
     "execution_count": 157,
     "metadata": {},
     "output_type": "execute_result"
    }
   ],
   "source": [
    "cnts.loc[lambda df: (df==0).sum(axis=1) < 3]"
   ]
  },
  {
   "cell_type": "code",
   "execution_count": 156,
   "id": "659d62b5",
   "metadata": {
    "ExecuteTime": {
     "end_time": "2022-12-13T01:40:13.193241Z",
     "start_time": "2022-12-13T01:40:12.960297Z"
    }
   },
   "outputs": [
    {
     "data": {
      "text/plain": [
       "<AxesSubplot:xlabel='interval'>"
      ]
     },
     "execution_count": 156,
     "metadata": {},
     "output_type": "execute_result"
    },
    {
     "data": {
      "image/png": "[encoded data removed]",
      "text/plain": [
       "<Figure size 432x288 with 1 Axes>"
      ]
     },
     "metadata": {
      "image/png": {
       "height": 270,
       "width": 595
      },
      "needs_background": "light"
     },
     "output_type": "display_data"
    }
   ],
   "source": [
    "cnts.loc['2022-12-10':,:].plot()"
   ]
  },
  {
   "cell_type": "code",
   "execution_count": null,
   "id": "3140e8d6",
   "metadata": {},
   "outputs": [],
   "source": []
  }
 ],
 "metadata": {
  "kernelspec": {
   "display_name": "dt",
   "language": "python",
   "name": "dt"
  },
  "language_info": {
   "codemirror_mode": {
    "name": "ipython",
    "version": 3
   },
   "file_extension": ".py",
   "mimetype": "text/x-python",
   "name": "python",
   "nbconvert_exporter": "python",
   "pygments_lexer": "ipython3",
   "version": "3.10.2"
  },
  "toc": {
   "base_numbering": 1,
   "nav_menu": {},
   "number_sections": true,
   "sideBar": true,
   "skip_h1_title": false,
   "title_cell": "Table of Contents",
   "title_sidebar": "Contents",
   "toc_cell": false,
   "toc_position": {},
   "toc_section_display": true,
   "toc_window_display": false
  }
 },
 "nbformat": 4,
 "nbformat_minor": 5
}
