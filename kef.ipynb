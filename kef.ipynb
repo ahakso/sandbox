{
 "cells": [
  {
   "cell_type": "code",
   "execution_count": 17,
   "id": "9633b09e-52fb-4bb3-a2b0-810b08091570",
   "metadata": {
    "execution": {
     "iopub.execute_input": "2024-08-26T16:47:54.297444Z",
     "iopub.status.busy": "2024-08-26T16:47:54.296960Z",
     "iopub.status.idle": "2024-08-26T16:47:54.323808Z",
     "shell.execute_reply": "2024-08-26T16:47:54.323334Z",
     "shell.execute_reply.started": "2024-08-26T16:47:54.297407Z"
    }
   },
   "outputs": [
    {
     "data": {
      "text/plain": [
       "{'bose': [16, 8, 25],\n",
       " 'kef10b': array([14.6, 13.9, 14.6]),\n",
       " 'kefkd92': array([13.87795276, 12.99212598, 14.19291339]),\n",
       " 'kef_kube8mie': array([12.2, 11.5, 11.5]),\n",
       " 'kef_kc62': array([ 9.68, 10.07,  8.6 ])}"
      ]
     },
     "execution_count": 17,
     "metadata": {},
     "output_type": "execute_result"
    }
   ],
   "source": [
    "vol = {\n",
    "    \"bose\": [16, 8, 25],\n",
    "    \"kef10b\": np.array([14.6, 13.9, 14.6]),\n",
    "    \"kef_kc92\": np.array([352.5, 330, 360.5]) / 25.4,\n",
    "    \"kef_kube8mie\": np.array([12.2, 11.5, 11.5]), # 600\n",
    "    \"kef_kc62\": np.array([9.68, 10.07, 8.6]), # 1500 new, 1150 used\n",
    "}\n",
    "\n",
    "vol"
   ]
  },
  {
   "cell_type": "code",
   "execution_count": 18,
   "id": "5c7a4465-f0ad-40d9-bba9-4fc890e38daf",
   "metadata": {
    "execution": {
     "iopub.execute_input": "2024-08-26T16:47:56.313994Z",
     "iopub.status.busy": "2024-08-26T16:47:56.313461Z",
     "iopub.status.idle": "2024-08-26T16:47:56.342508Z",
     "shell.execute_reply": "2024-08-26T16:47:56.341976Z",
     "shell.execute_reply.started": "2024-08-26T16:47:56.313954Z"
    }
   },
   "outputs": [
    {
     "data": {
      "text/plain": [
       "{'bose': 3200,\n",
       " 'kef10b': 2962.924,\n",
       " 'kefkd92': 2559.040624971014,\n",
       " 'kef_kube8mie': 1613.4499999999998,\n",
       " 'kef_kc62': 838.3073599999999}"
      ]
     },
     "execution_count": 18,
     "metadata": {},
     "output_type": "execute_result"
    }
   ],
   "source": [
    "{k: np.prod(v) for k, v in vol.items()}"
   ]
  },
  {
   "cell_type": "code",
   "execution_count": 24,
   "id": "c0a024b2-7982-4702-9f89-c7e77abb634b",
   "metadata": {
    "execution": {
     "iopub.execute_input": "2024-08-26T17:08:38.553495Z",
     "iopub.status.busy": "2024-08-26T17:08:38.553053Z",
     "iopub.status.idle": "2024-08-26T17:08:38.587213Z",
     "shell.execute_reply": "2024-08-26T17:08:38.586444Z",
     "shell.execute_reply.started": "2024-08-26T17:08:38.553464Z"
    }
   },
   "outputs": [
    {
     "name": "stdout",
     "output_type": "stream",
     "text": [
      "new: 4300\n",
      "used:3285\n"
     ]
    }
   ],
   "source": [
    "# sub, center, lr, amp\n",
    "new = 1500+900+1450+450\n",
    "used = 1200+835+800+450\n",
    "print(f\"new: {new}\\nused:{used}\")"
   ]
  }
 ],
 "metadata": {
  "kernelspec": {
   "display_name": "dt",
   "language": "python",
   "name": "dt"
  },
  "language_info": {
   "codemirror_mode": {
    "name": "ipython",
    "version": 3
   },
   "file_extension": ".py",
   "mimetype": "text/x-python",
   "name": "python",
   "nbconvert_exporter": "python",
   "pygments_lexer": "ipython3",
   "version": "3.11.7"
  }
 },
 "nbformat": 4,
 "nbformat_minor": 5
}
