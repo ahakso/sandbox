{
 "cells": [
  {
   "cell_type": "code",
   "execution_count": null,
   "id": "619389dc",
   "metadata": {},
   "outputs": [],
   "source": []
  },
  {
   "cell_type": "code",
   "execution_count": null,
   "id": "531c6083",
   "metadata": {},
   "outputs": [],
   "source": [
    "# speed\n",
    "st = (\n",
    "    pd.read_csv(\"~/Desktop/speedtest2.csv\")\n",
    "    .drop_duplicates()\n",
    "    .loc[lambda df: df.time != \"time\"]\n",
    "    .assign(time= lambda df: pd.to_datetime(df.time))\n",
    ")  # .to_csv('~/Desktop/speedtest2.csv',index=False)\n",
    "fig, ax = plt.subplots(2,1,figsize=(8,10))\n",
    "st.assign(\n",
    "    a_zero=st.apply(lambda df: (df[[\"download\", \"upload\"]] == 0), axis=1).sum(axis=1)\n",
    ").astype({\"a_zero\": bool}).set_index(\"time\")[\n",
    "    [\"download\", \"upload\"]\n",
    "].min(axis=1).rolling(\n",
    "    window=datetime.timedelta(minutes=60)\n",
    ").mean().rename('min_speed').reset_index().plot(ax=ax[0],x='time',y='min_speed',kind='scatter')\n",
    "\n",
    "_ = st.assign(\n",
    "    a_zero=st.apply(lambda df: (df[[\"download\", \"upload\"]] == 0), axis=1).sum(axis=1)\n",
    ").astype({\"a_zero\": bool}).set_index(\"time\").rolling(\n",
    "    window=datetime.timedelta(minutes=60)\n",
    ").a_zero.sum().plot(ax=ax[1],title='count')\n",
    "plt.tight_layout()\n",
    "fig.autofmt_xdate()"
   ]
  },
  {
   "cell_type": "code",
   "execution_count": null,
   "id": "069c2d8b",
   "metadata": {},
   "outputs": [],
   "source": [
    "# connectivity\n",
    "pd.read_csv(\"/Users/ahakso/Desktop/pinglog.csv\", header=None, parse_dates=[0]).assign(\n",
    "    connected=lambda df: df[1].str.replace(\" \", \"\").astype(bool)\n",
    ").astype(\n",
    "    {\"connected\": int}\n",
    ").connected.rolling(10).mean().plot()"
   ]
  }
 ],
 "metadata": {
  "kernelspec": {
   "display_name": "Python 3 (ipykernel)",
   "language": "python",
   "name": "python3"
  },
  "language_info": {
   "codemirror_mode": {
    "name": "ipython",
    "version": 3
   },
   "file_extension": ".py",
   "mimetype": "text/x-python",
   "name": "python",
   "nbconvert_exporter": "python",
   "pygments_lexer": "ipython3",
   "version": "3.10.2"
  },
  "toc": {
   "base_numbering": 1,
   "nav_menu": {},
   "number_sections": true,
   "sideBar": true,
   "skip_h1_title": false,
   "title_cell": "Table of Contents",
   "title_sidebar": "Contents",
   "toc_cell": false,
   "toc_position": {},
   "toc_section_display": true,
   "toc_window_display": false
  }
 },
 "nbformat": 4,
 "nbformat_minor": 5
}
